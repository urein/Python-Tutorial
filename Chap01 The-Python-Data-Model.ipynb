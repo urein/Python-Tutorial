{
 "cells": [
  {
   "cell_type": "markdown",
   "metadata": {},
   "source": [
    "# Chap 01  The Python Data Model"
   ]
  },
  {
   "cell_type": "markdown",
   "metadata": {},
   "source": [
    "Python的语言风格和设计思想基于它的数据模型。数据模型规范了语言自身构建模块的API，模块包括序列、迭代器、函数、类、上下文管理器等等。通过这些API，我们可以用地道的Python语言构建自己定义的类。\n",
    "\n",
    "Python 解释器在碰到特殊的句法时，会使用一些以双下划线开头和结尾的特殊方法（魔法函数）去激活一些基本的对象操作。比如my_obj[key] 的背后就是 __getitem__ 方法，解释器实际上调用的就是my_obj.__getitem__(key)。这些特殊方法能够让自己定义的对象支持很多基本的语言结构并与之交互，比如迭代、集合类、访问属性、运算符重载、函数和方法的调用、对象的创建和销毁、字符串表示和格式化输出、上下文管理。\n"
   ]
  },
  {
   "cell_type": "markdown",
   "metadata": {},
   "source": [
    "## A Pythonic Card Deck"
   ]
  },
  {
   "cell_type": "code",
   "execution_count": 1,
   "metadata": {},
   "outputs": [],
   "source": [
    "from collections import namedtuple\n",
    "\n",
    "# Card是一个类，包含rank和suit两个成员，通过Card(rank, suit)创建一张卡片\n",
    "Card = namedtuple('Card', ['rank', 'suit'])\n",
    "\n",
    "\n",
    "class FrenchDeck():\n",
    "    ranks = [str(i) for i in range(2, 10)] + list('JQKA')\n",
    "    suits = ['spades', 'dimonds', 'clubs', 'hearts']\n",
    "\n",
    "    def __init__(self):\n",
    "        self._cards = [Card(rank, suit) for rank in self.ranks for suit in self.suits]\n",
    "\n",
    "    def __len__(self):\n",
    "        # 让FrenchDeck类支持len()操作\n",
    "        return len(self._cards)  # _cards是一个list，自然支持len\n",
    "\n",
    "    def __getitem__(self, position):\n",
    "        # 让FrenchDeck类支持索引操作\n",
    "        return self._cards[position]"
   ]
  },
  {
   "cell_type": "markdown",
   "metadata": {},
   "source": [
    "FrenchDeck 这个类短小精悍。它跟任何标准 Python 集合类型一样，可以用 len() 函数\n",
    "查看一叠牌有多少张，或通过索引查看某一张牌。"
   ]
  },
  {
   "cell_type": "code",
   "execution_count": 2,
   "metadata": {},
   "outputs": [
    {
     "name": "stdout",
     "output_type": "stream",
     "text": [
      "48\n",
      "Card(rank='A', suit='hearts')\n"
     ]
    }
   ],
   "source": [
    "deck = FrenchDeck()\n",
    "print(len(deck))  # 调用deck.__len__()\n",
    "print(deck[-1])  # 调用deck.__getitem(-1)"
   ]
  },
  {
   "cell_type": "markdown",
   "metadata": {},
   "source": [
    "Python这样做有一个明显的好处。在查看序列的长度时我们只要记住使用len()即可，而不用记忆方法名，到底是.size()还是.length()。\n",
    "如果我们想实现抽牌的功能，无须自己取写函数。Python已经内置了从一个序列中随机选取元素的函数在random.choice。直接把它用在这个实例上即可。\n"
   ]
  },
  {
   "cell_type": "code",
   "execution_count": 3,
   "metadata": {},
   "outputs": [
    {
     "name": "stdout",
     "output_type": "stream",
     "text": [
      "Card(rank='7', suit='spades')\n",
      "Card(rank='8', suit='clubs')\n"
     ]
    }
   ],
   "source": [
    "from random import choice\n",
    "print(choice(deck))\n",
    "print(choice(deck))"
   ]
  },
  {
   "cell_type": "markdown",
   "metadata": {},
   "source": [
    "因为FrenchDeck类中定义了__getitem__方法，于是deck支持索引操作[]，于是它自然也支持切片操作。"
   ]
  },
  {
   "cell_type": "code",
   "execution_count": 4,
   "metadata": {},
   "outputs": [
    {
     "name": "stdout",
     "output_type": "stream",
     "text": [
      "[Card(rank='2', suit='spades'), Card(rank='2', suit='dimonds'), Card(rank='2', suit='clubs')]\n"
     ]
    }
   ],
   "source": [
    "print(deck[:3])"
   ]
  },
  {
   "cell_type": "markdown",
   "metadata": {},
   "source": [
    "定义了__getitem__方法之后，对象还是iterable的。"
   ]
  },
  {
   "cell_type": "code",
   "execution_count": 5,
   "metadata": {},
   "outputs": [
    {
     "name": "stdout",
     "output_type": "stream",
     "text": [
      "Card(rank='2', suit='spades')\n",
      "Card(rank='2', suit='dimonds')\n",
      "Card(rank='2', suit='clubs')\n",
      "Card(rank='2', suit='hearts')\n",
      "Card(rank='3', suit='spades')\n",
      "Card(rank='3', suit='dimonds')\n"
     ]
    }
   ],
   "source": [
    "for i, card in enumerate(deck):\n",
    "    print(card)\n",
    "    if (i == 5):\n",
    "        break"
   ]
  },
  {
   "cell_type": "markdown",
   "metadata": {},
   "source": [
    "同时它也支持反向迭代"
   ]
  },
  {
   "cell_type": "code",
   "execution_count": 6,
   "metadata": {},
   "outputs": [
    {
     "name": "stdout",
     "output_type": "stream",
     "text": [
      "Card(rank='A', suit='hearts')\n",
      "Card(rank='A', suit='clubs')\n",
      "Card(rank='A', suit='dimonds')\n",
      "Card(rank='A', suit='spades')\n"
     ]
    }
   ],
   "source": [
    "for i, card in enumerate(reversed(deck)):\n",
    "    print(card)\n",
    "    if i == 3:\n",
    "        break"
   ]
  },
  {
   "cell_type": "markdown",
   "metadata": {},
   "source": [
    "如果一个集合collection中定义了__contain__，就可以使用in运算符。但这里没有定义，于是在使用in运算符时会进行一次隐式迭代搜索。而FrenchDeck是支持迭代操作的，因此in操作符依然可以用在这个类上。"
   ]
  },
  {
   "cell_type": "code",
   "execution_count": 7,
   "metadata": {},
   "outputs": [
    {
     "data": {
      "text/plain": [
       "True"
      ]
     },
     "execution_count": 7,
     "metadata": {},
     "output_type": "execute_result"
    }
   ],
   "source": [
    "Card('K', 'spades') in deck"
   ]
  },
  {
   "cell_type": "markdown",
   "metadata": {},
   "source": [
    "接下来我们想要对牌进行排序。因为FrenchDeck实现了__len__和__getitem__两个特殊方法，该类就和一个Python自有的序列类型一样了，它自然也支持sorted函数。下面我们对一副扑克牌按“数字+花色”进行排序，花色由大到小依次为Spades、Hearts、Dimonds、Clubs。"
   ]
  },
  {
   "cell_type": "code",
   "execution_count": 8,
   "metadata": {},
   "outputs": [
    {
     "name": "stdout",
     "output_type": "stream",
     "text": [
      "{'spades': 3, 'hearts': 2, 'dimonds': 1, 'clubs': 0}\n"
     ]
    }
   ],
   "source": [
    "# 对花色排大小\n",
    "suit_values = dict(spades=3, hearts=2, dimonds=1, clubs=0)\n",
    "print(suit_values)"
   ]
  },
  {
   "cell_type": "code",
   "execution_count": 9,
   "metadata": {},
   "outputs": [
    {
     "data": {
      "text/plain": [
       "(0, 4, 7)"
      ]
     },
     "execution_count": 9,
     "metadata": {},
     "output_type": "execute_result"
    }
   ],
   "source": [
    "def spades_high(card):\n",
    "    rank_value = FrenchDeck.ranks.index(card.rank)  # card.rank是一个str\n",
    "    return rank_value * len(suit_values) + suit_values[card.suit]  # 先排大小再拍花色\n",
    "\n",
    "r1 = spades_high(Card(rank='2', suit='clubs'))\n",
    "r2 = spades_high(Card(rank='3', suit='clubs'))\n",
    "r3 = spades_high(Card(rank='3', suit='spades'))\n",
    "r1, r2, r3"
   ]
  },
  {
   "cell_type": "code",
   "execution_count": 10,
   "metadata": {},
   "outputs": [
    {
     "name": "stdout",
     "output_type": "stream",
     "text": [
      "Card(rank='2', suit='clubs')\n",
      "Card(rank='2', suit='dimonds')\n",
      "Card(rank='2', suit='hearts')\n",
      "Card(rank='2', suit='spades')\n",
      "Card(rank='3', suit='clubs')\n",
      "Card(rank='3', suit='dimonds')\n",
      "Card(rank='3', suit='hearts')\n",
      "Card(rank='3', suit='spades')\n",
      "Card(rank='4', suit='clubs')\n",
      "Card(rank='4', suit='dimonds')\n",
      "Card(rank='4', suit='hearts')\n"
     ]
    }
   ],
   "source": [
    "for i, card in enumerate(sorted(deck, key=spades_high)):\n",
    "    print(card)\n",
    "    if i == 10:\n",
    "        break"
   ]
  },
  {
   "cell_type": "markdown",
   "metadata": {},
   "source": [
    "更进一步，如果想洗牌功能呢？目前为止FrenchDeck是immutable的，还不能洗牌。后面会介绍如何通过添加__setitem__方法实现洗牌功能。"
   ]
  },
  {
   "cell_type": "markdown",
   "metadata": {},
   "source": [
    "## How Special Methods Are Used"
   ]
  },
  {
   "cell_type": "markdown",
   "metadata": {},
   "source": [
    "特殊方法的存在是为了被Python解释器调用的，我们自己并不需要去调用它。说白了，你应该写len(my_obj)让解释器去调用--len--，而不自己去调用\"obj.--len--()\"。很多时候，特殊方法的调用是隐式的，比如在执行for i in x这个语句时，实际是在执行iter(x)，即x.--iter--()。唯一一个需要经常被显式调用的方法是--init--，用于在自己定义的子类中调用父类的构造函数。使用诸如len、iter、str等内置函数不仅可以帮助调用特殊方法，它们的执行速度也会更快。不要自己想当然地去随意添加特殊方法。"
   ]
  },
  {
   "cell_type": "markdown",
   "metadata": {},
   "source": [
    "## Self-defined Vector —— Emulating Numeric Types"
   ]
  },
  {
   "cell_type": "code",
   "execution_count": 11,
   "metadata": {},
   "outputs": [],
   "source": [
    "import math\n",
    "\n",
    "class Vector:\n",
    "    def __init__(self, x=0, y=0):\n",
    "        self.x = x\n",
    "        self.y = y\n",
    "    \n",
    "    def __repr__(self):\n",
    "        # __repr__函数最好能保证返回的结果可以构造出原对象\n",
    "        print('in __repr__()')\n",
    "        return ('Vector({0.x}, {0.y})'.format(self))\n",
    "    \n",
    "    def __abs__(self):\n",
    "        return math.hypot(self.x, self.y)\n",
    "    \n",
    "    def __bool__(self):\n",
    "        return bool(abs(self))  # 调用上面重写的__abs__\n",
    "    \n",
    "    def __add__(self, other):\n",
    "        x = self.x + other.x\n",
    "        y = self.y + other.y\n",
    "        return Vector(x, y)\n",
    "    \n",
    "    def __mul__(self, scalar):\n",
    "        return Vector(self.x*scalar, self.y*scalar)\n",
    "    \n",
    "    def __rmul__(self, scalar):\n",
    "        print('in __rmul__')\n",
    "        return Vector(self.x*scalar, self.y*scalar)"
   ]
  },
  {
   "cell_type": "code",
   "execution_count": 12,
   "metadata": {},
   "outputs": [],
   "source": [
    "v = Vector(3, 4)"
   ]
  },
  {
   "cell_type": "markdown",
   "metadata": {},
   "source": [
    "## String Representation"
   ]
  },
  {
   "cell_type": "markdown",
   "metadata": {},
   "source": [
    "内置函数repr（report的缩写）可以调用特殊函数--repr--，用于得到一个对象的字符串表达，方便检查对象。如果某对象的类中没有实现--repr--，在控制台打印对象时会得到一个类似<Vector object at 0x10e100070>的输出。--repr-- 返回的字符串应当是明确的，没有歧义的，如果有可能应当让它匹配产生该对象的源码，就像这里应当返回形如 'Vector(a, b)' 的形式。"
   ]
  },
  {
   "cell_type": "code",
   "execution_count": 13,
   "metadata": {},
   "outputs": [
    {
     "name": "stdout",
     "output_type": "stream",
     "text": [
      "in __repr__()\n"
     ]
    },
    {
     "data": {
      "text/plain": [
       "'Vector(3, 4)'"
      ]
     },
     "execution_count": 13,
     "metadata": {},
     "output_type": "execute_result"
    }
   ],
   "source": [
    "repr(v)"
   ]
  },
  {
   "cell_type": "code",
   "execution_count": 14,
   "metadata": {},
   "outputs": [
    {
     "name": "stdout",
     "output_type": "stream",
     "text": [
      "in __repr__()\n",
      "in __repr__()\n"
     ]
    },
    {
     "data": {
      "text/plain": [
       "Vector(3, 4)"
      ]
     },
     "execution_count": 14,
     "metadata": {},
     "output_type": "execute_result"
    }
   ],
   "source": [
    "eval(repr(v))"
   ]
  },
  {
   "cell_type": "code",
   "execution_count": 15,
   "metadata": {},
   "outputs": [
    {
     "name": "stdout",
     "output_type": "stream",
     "text": [
      "in __repr__()\n"
     ]
    },
    {
     "data": {
      "text/plain": [
       "Vector(3, 4)"
      ]
     },
     "execution_count": 15,
     "metadata": {},
     "output_type": "execute_result"
    }
   ],
   "source": [
    "v"
   ]
  },
  {
   "cell_type": "markdown",
   "metadata": {},
   "source": [
    "对于更传统地采用 % 进行输出，使用 %r 则系统自动调用 repr。而对于更新的采用format进行格式化输出，使用 !r 则系统自动调用 repr。"
   ]
  },
  {
   "cell_type": "code",
   "execution_count": 16,
   "metadata": {},
   "outputs": [
    {
     "name": "stdout",
     "output_type": "stream",
     "text": [
      "in __repr__()\n",
      "Vector(3, 4)\n"
     ]
    }
   ],
   "source": [
    "print('%r' % v)"
   ]
  },
  {
   "cell_type": "code",
   "execution_count": 17,
   "metadata": {},
   "outputs": [
    {
     "name": "stdout",
     "output_type": "stream",
     "text": [
      "in __repr__()\n",
      "Vector(3, 4)\n"
     ]
    }
   ],
   "source": [
    "print('{!r}'.format(v))"
   ]
  },
  {
   "cell_type": "markdown",
   "metadata": {},
   "source": [
    "对比--repr--和--str--，--str--是通过内值函数str()调用的。在使用print函数打印对象时会调用它。--str--更偏向于为用户展示信息，而--repr--更偏向于为程序员展示信息。如果选一个，请选择实现--repr--，因为即使未定义--str--，Python也会调用--repr--。"
   ]
  },
  {
   "cell_type": "code",
   "execution_count": 18,
   "metadata": {},
   "outputs": [
    {
     "name": "stdout",
     "output_type": "stream",
     "text": [
      "in __repr__()\n",
      "Vector(3, 4)\n",
      "in __repr__()\n",
      "Vector(3, 4)\n",
      "in __repr__()\n",
      "Vector(3, 4)\n"
     ]
    }
   ],
   "source": [
    "print(v.__str__())\n",
    "print(str(v))\n",
    "print(v)"
   ]
  },
  {
   "cell_type": "markdown",
   "metadata": {},
   "source": [
    "## Arithmetic Operations\n",
    "\n",
    "Vector类通过实现了--add--和--mul--，使得对象支持 + 和 * 的操作。这两个运算符被称为中缀运算符 (infix operators)，它的基本原则就是不改变操作对象，只是通过读取它们产生一个新的值。如果想实现乘法交换律，即 3 * v，就必须在类中实现 --rmul--。"
   ]
  },
  {
   "cell_type": "markdown",
   "metadata": {},
   "source": [
    "## Boolean Value of a Custom Type\n",
    "\n",
    "Python通过内置函数bool()判断一个对象的布尔值是True还是False。在编程时通过布尔值处理上下文运算很常见的，比如if或while语句，或者and，or和not运算。默认情况下，自定义类的实例总被认为是True的，除非在类中实现了--bool--或--len--。如果--bool--方法未实现，Python会尝试调用x.--len--()，如果返回值为0，则布尔值为False，否则为True。"
   ]
  },
  {
   "cell_type": "code",
   "execution_count": 19,
   "metadata": {},
   "outputs": [
    {
     "name": "stdout",
     "output_type": "stream",
     "text": [
      "True\n",
      "True\n"
     ]
    }
   ],
   "source": [
    "print(bool(v))\n",
    "print(v.__bool__())"
   ]
  },
  {
   "cell_type": "markdown",
   "metadata": {},
   "source": [
    "## Summary"
   ]
  },
  {
   "cell_type": "markdown",
   "metadata": {},
   "source": [
    "    --getitem--  ==>  [], slicing, iterable\n",
    "    --getitem-- + --len--  ==>  in, sorted\n",
    "    --contain--  ==> in\n",
    "    --repr--  ==>  repr(), {!r}.format()\n",
    "    --str--  ==>  str(), 未实现时转而调用--repr--\n",
    "    --bool--  ==> bool()  未实现时：默认bool(obj)为True，但若实现了--len--，当len(obj)为0是为False\n",
    "    --add--  ==> +\n",
    "    --radd--\n",
    "    --rmul--\n"
   ]
  },
  {
   "cell_type": "code",
   "execution_count": null,
   "metadata": {},
   "outputs": [],
   "source": []
  }
 ],
 "metadata": {
  "kernelspec": {
   "display_name": "Python 3",
   "language": "python",
   "name": "python3"
  },
  "language_info": {
   "codemirror_mode": {
    "name": "ipython",
    "version": 3
   },
   "file_extension": ".py",
   "mimetype": "text/x-python",
   "name": "python",
   "nbconvert_exporter": "python",
   "pygments_lexer": "ipython3",
   "version": "3.8.5"
  }
 },
 "nbformat": 4,
 "nbformat_minor": 4
}
